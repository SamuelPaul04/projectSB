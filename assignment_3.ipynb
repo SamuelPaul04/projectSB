{
  "cells": [
    {
      "cell_type": "markdown",
      "metadata": {
        "id": "Vv2I_WzpDvRW"
      },
      "source": [
        "Finding the output of the following"
      ]
    },
    {
      "cell_type": "code",
      "execution_count": 3,
      "metadata": {
        "colab": {
          "base_uri": "https://localhost:8080/"
        },
        "id": "dOM_wK5SnGPl",
        "outputId": "a2d528af-eb20-4067-f5b4-4815f376deb0"
      },
      "outputs": [
        {
          "name": "stdout",
          "output_type": "stream",
          "text": [
            "5\n"
          ]
        }
      ],
      "source": [
        "Age1 = 5\n",
        "print(Age1)  # can show the output\n"
      ]
    },
    {
      "cell_type": "code",
      "execution_count": 4,
      "metadata": {
        "colab": {
          "base_uri": "https://localhost:8080/",
          "height": 130
        },
        "id": "JLhfk-jMDodv",
        "outputId": "6fae960b-e1d0-4f6b-bb99-cf6bcf8dad21"
      },
      "outputs": [
        {
          "ename": "SyntaxError",
          "evalue": "ignored",
          "output_type": "error",
          "traceback": [
            "\u001b[0;36m  File \u001b[0;32m\"<ipython-input-4-6690422736fc>\"\u001b[0;36m, line \u001b[0;32m1\u001b[0m\n\u001b[0;31m    5age = 55\u001b[0m\n\u001b[0m       ^\u001b[0m\n\u001b[0;31mSyntaxError\u001b[0m\u001b[0;31m:\u001b[0m invalid syntax\n"
          ]
        }
      ],
      "source": [
        "5age = 55\n",
        "print(5age) # cannot show the output"
      ]
    },
    {
      "cell_type": "markdown",
      "metadata": {
        "id": "H3dX7o0dD3AX"
      },
      "source": [
        "Finding the output of the following(can/cannot)"
      ]
    },
    {
      "cell_type": "code",
      "execution_count": 5,
      "metadata": {
        "colab": {
          "base_uri": "https://localhost:8080/"
        },
        "id": "DCsEhq2pD-JW",
        "outputId": "0e2432ca-fcbc-48e0-dae8-aa700ff14736"
      },
      "outputs": [
        {
          "name": "stdout",
          "output_type": "stream",
          "text": [
            "100\n"
          ]
        }
      ],
      "source": [
        "Age_1 = 100\n",
        "\n",
        "print(Age_1) # can show the output"
      ]
    },
    {
      "cell_type": "code",
      "execution_count": 6,
      "metadata": {
        "colab": {
          "base_uri": "https://localhost:8080/",
          "height": 130
        },
        "id": "llh10xhnEGOG",
        "outputId": "c7d5c3bc-8d11-4925-c8f7-05a4d8c0a03f"
      },
      "outputs": [
        {
          "ename": "SyntaxError",
          "evalue": "ignored",
          "output_type": "error",
          "traceback": [
            "\u001b[0;36m  File \u001b[0;32m\"<ipython-input-6-7b87cc9e6ddf>\"\u001b[0;36m, line \u001b[0;32m1\u001b[0m\n\u001b[0;31m    age@1 = 100\u001b[0m\n\u001b[0m               ^\u001b[0m\n\u001b[0;31mSyntaxError\u001b[0m\u001b[0;31m:\u001b[0m can't assign to operator\n"
          ]
        }
      ],
      "source": [
        "age@1 = 100\n",
        "\n",
        "print(age@1) # cannot show the output"
      ]
    },
    {
      "cell_type": "markdown",
      "metadata": {
        "id": "e3aTznhREhz-"
      },
      "source": [
        "Deleting variable in python\n"
      ]
    },
    {
      "cell_type": "code",
      "execution_count": 8,
      "metadata": {
        "colab": {
          "base_uri": "https://localhost:8080/"
        },
        "id": "NZq3posfEoep",
        "outputId": "73190413-34bf-4966-9d98-a8f96e6258b7"
      },
      "outputs": [
        {
          "name": "stdout",
          "output_type": "stream",
          "text": [
            "Deleting variable in python\n",
            "\n"
          ]
        }
      ],
      "source": [
        "a = \"Deleting variable in python\"\n",
        "print(a)\n",
        "print()\n",
        "del(a)  # we can show with del function\n",
        "print(a)"
      ]
    }
  ],
  "metadata": {
    "colab": {
      "collapsed_sections": [],
      "provenance": []
    },
    "kernelspec": {
      "display_name": "Python 3",
      "name": "python3"
    },
    "language_info": {
      "name": "python"
    }
  },
  "nbformat": 4,
  "nbformat_minor": 0
}
